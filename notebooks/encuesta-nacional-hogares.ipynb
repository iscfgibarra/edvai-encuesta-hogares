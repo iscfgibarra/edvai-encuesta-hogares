{
 "cells": [
  {
   "cell_type": "markdown",
   "source": [
    "# Encuesta Nacional de Hogares 2029"
   ],
   "metadata": {
    "collapsed": false
   }
  },
  {
   "cell_type": "markdown",
   "source": [
    "## 📍 Objetivo\n",
    "Realizar la preparación de datos de la Encuesta anual de hogares realizada en todo el territorio de la Ciudad de Buenos Aires, Argentina en el 2019.\n",
    "\n",
    "Prácticamente vas a acondicionar el dataset para que te quede listo para buscar correlaciones o entrenar algún modelo de Machine Learning.\n",
    "\n",
    "El dataset proviene del Open Data del Gobierno de Buenos Aires: [Encuesta anual de hogares 2019](https://data.buenosaires.gob.ar/dataset/encuesta-anual-hogares)"
   ],
   "metadata": {
    "collapsed": false
   }
  },
  {
   "cell_type": "markdown",
   "source": [
    "## 0. Importar librerias ,utilerias y constantes"
   ],
   "metadata": {
    "collapsed": false
   }
  },
  {
   "cell_type": "code",
   "execution_count": 22,
   "outputs": [],
   "source": [
    "import pandas as pd\n",
    "import os\n",
    "import sys\n",
    "\n",
    "# Permitiendo el acceso a modulos en el codigo superior\n",
    "module_path = os.path.abspath(os.path.join('..'))\n",
    "if module_path not in sys.path:\n",
    "    sys.path.append(module_path)\n",
    "\n",
    "from helpers import Explorator\n",
    "\n",
    "DATA_FILE = '../data/encuesta-anual-hogares-2019.csv'\n"
   ],
   "metadata": {
    "collapsed": false,
    "ExecuteTime": {
     "start_time": "2023-04-18T11:38:36.035517Z",
     "end_time": "2023-04-18T11:38:36.043565Z"
    }
   }
  },
  {
   "cell_type": "markdown",
   "source": [
    "## 1. Carga y revisión inicial de los datos"
   ],
   "metadata": {
    "collapsed": false
   }
  },
  {
   "cell_type": "code",
   "execution_count": 8,
   "outputs": [],
   "source": [
    "data = pd.read_csv(DATA_FILE, sep=',')"
   ],
   "metadata": {
    "collapsed": false,
    "ExecuteTime": {
     "start_time": "2023-04-18T10:38:24.854117Z",
     "end_time": "2023-04-18T10:38:24.915471Z"
    }
   }
  },
  {
   "cell_type": "code",
   "execution_count": 9,
   "outputs": [
    {
     "data": {
      "text/plain": "   id  nhogar  miembro  comuna             dominio  edad   sexo   \n0   1       1        1       5  Resto de la Ciudad    18  Mujer  \\\n1   1       1        2       5  Resto de la Ciudad    18  Mujer   \n2   2       1        1       2  Resto de la Ciudad    18  Varon   \n3   2       1        2       2  Resto de la Ciudad    50  Mujer   \n4   2       1        3       2  Resto de la Ciudad    17  Varon   \n\n        parentesco_jefe situacion_conyugal          num_miembro_padre  ...   \n0                  Jefe          Soltero/a  Padre no vive en el hogar  ...  \\\n1      Otro no familiar          Soltero/a  Padre no vive en el hogar  ...   \n2                  Jefe          Soltero/a  Padre no vive en el hogar  ...   \n3  Padre/Madre/Suegro/a            Viudo/a             No corresponde  ...   \n4         Otro familiar          Soltero/a  Padre no vive en el hogar  ...   \n\n  ingreso_per_capita_familiar        estado_educativo   sector_educativo   \n0                        9000                  Asiste    Estatal/publico  \\\n1                        9000                  Asiste    Estatal/publico   \n2                       33333                  Asiste  Privado religioso   \n3                       33333  No asiste pero asistió     No corresponde   \n4                       33333                  Asiste  Privado religioso   \n\n             nivel_actual        nivel_max_educativo años_escolaridad   \n0           Universitario  Otras escuelas especiales               12  \\\n1           Universitario  Otras escuelas especiales               12   \n2           Universitario  Otras escuelas especiales               12   \n3          No corresponde     Secundario/medio comun               17   \n4  Secundario/medio comun          EGB (1° a 9° año)               10   \n\n   lugar_nacimiento                                   afiliacion_salud   \n0   PBA excepto GBA                                   Solo obra social  \\\n1    Otra provincia  Solo plan de medicina prepaga por contratación...   \n2              CABA  Solo plan de medicina prepaga por contratación...   \n3              CABA                       Solo prepaga o mutual via OS   \n4              CABA  Solo plan de medicina prepaga por contratación...   \n\n   hijos_nacidos_vivos cantidad_hijos_nac_vivos  \n0                   No           No corresponde  \n1                   No           No corresponde  \n2                  NaN           No corresponde  \n3                   Si                        2  \n4                  NaN           No corresponde  \n\n[5 rows x 31 columns]",
      "text/html": "<div>\n<style scoped>\n    .dataframe tbody tr th:only-of-type {\n        vertical-align: middle;\n    }\n\n    .dataframe tbody tr th {\n        vertical-align: top;\n    }\n\n    .dataframe thead th {\n        text-align: right;\n    }\n</style>\n<table border=\"1\" class=\"dataframe\">\n  <thead>\n    <tr style=\"text-align: right;\">\n      <th></th>\n      <th>id</th>\n      <th>nhogar</th>\n      <th>miembro</th>\n      <th>comuna</th>\n      <th>dominio</th>\n      <th>edad</th>\n      <th>sexo</th>\n      <th>parentesco_jefe</th>\n      <th>situacion_conyugal</th>\n      <th>num_miembro_padre</th>\n      <th>...</th>\n      <th>ingreso_per_capita_familiar</th>\n      <th>estado_educativo</th>\n      <th>sector_educativo</th>\n      <th>nivel_actual</th>\n      <th>nivel_max_educativo</th>\n      <th>años_escolaridad</th>\n      <th>lugar_nacimiento</th>\n      <th>afiliacion_salud</th>\n      <th>hijos_nacidos_vivos</th>\n      <th>cantidad_hijos_nac_vivos</th>\n    </tr>\n  </thead>\n  <tbody>\n    <tr>\n      <th>0</th>\n      <td>1</td>\n      <td>1</td>\n      <td>1</td>\n      <td>5</td>\n      <td>Resto de la Ciudad</td>\n      <td>18</td>\n      <td>Mujer</td>\n      <td>Jefe</td>\n      <td>Soltero/a</td>\n      <td>Padre no vive en el hogar</td>\n      <td>...</td>\n      <td>9000</td>\n      <td>Asiste</td>\n      <td>Estatal/publico</td>\n      <td>Universitario</td>\n      <td>Otras escuelas especiales</td>\n      <td>12</td>\n      <td>PBA excepto GBA</td>\n      <td>Solo obra social</td>\n      <td>No</td>\n      <td>No corresponde</td>\n    </tr>\n    <tr>\n      <th>1</th>\n      <td>1</td>\n      <td>1</td>\n      <td>2</td>\n      <td>5</td>\n      <td>Resto de la Ciudad</td>\n      <td>18</td>\n      <td>Mujer</td>\n      <td>Otro no familiar</td>\n      <td>Soltero/a</td>\n      <td>Padre no vive en el hogar</td>\n      <td>...</td>\n      <td>9000</td>\n      <td>Asiste</td>\n      <td>Estatal/publico</td>\n      <td>Universitario</td>\n      <td>Otras escuelas especiales</td>\n      <td>12</td>\n      <td>Otra provincia</td>\n      <td>Solo plan de medicina prepaga por contratación...</td>\n      <td>No</td>\n      <td>No corresponde</td>\n    </tr>\n    <tr>\n      <th>2</th>\n      <td>2</td>\n      <td>1</td>\n      <td>1</td>\n      <td>2</td>\n      <td>Resto de la Ciudad</td>\n      <td>18</td>\n      <td>Varon</td>\n      <td>Jefe</td>\n      <td>Soltero/a</td>\n      <td>Padre no vive en el hogar</td>\n      <td>...</td>\n      <td>33333</td>\n      <td>Asiste</td>\n      <td>Privado religioso</td>\n      <td>Universitario</td>\n      <td>Otras escuelas especiales</td>\n      <td>12</td>\n      <td>CABA</td>\n      <td>Solo plan de medicina prepaga por contratación...</td>\n      <td>NaN</td>\n      <td>No corresponde</td>\n    </tr>\n    <tr>\n      <th>3</th>\n      <td>2</td>\n      <td>1</td>\n      <td>2</td>\n      <td>2</td>\n      <td>Resto de la Ciudad</td>\n      <td>50</td>\n      <td>Mujer</td>\n      <td>Padre/Madre/Suegro/a</td>\n      <td>Viudo/a</td>\n      <td>No corresponde</td>\n      <td>...</td>\n      <td>33333</td>\n      <td>No asiste pero asistió</td>\n      <td>No corresponde</td>\n      <td>No corresponde</td>\n      <td>Secundario/medio comun</td>\n      <td>17</td>\n      <td>CABA</td>\n      <td>Solo prepaga o mutual via OS</td>\n      <td>Si</td>\n      <td>2</td>\n    </tr>\n    <tr>\n      <th>4</th>\n      <td>2</td>\n      <td>1</td>\n      <td>3</td>\n      <td>2</td>\n      <td>Resto de la Ciudad</td>\n      <td>17</td>\n      <td>Varon</td>\n      <td>Otro familiar</td>\n      <td>Soltero/a</td>\n      <td>Padre no vive en el hogar</td>\n      <td>...</td>\n      <td>33333</td>\n      <td>Asiste</td>\n      <td>Privado religioso</td>\n      <td>Secundario/medio comun</td>\n      <td>EGB (1° a 9° año)</td>\n      <td>10</td>\n      <td>CABA</td>\n      <td>Solo plan de medicina prepaga por contratación...</td>\n      <td>NaN</td>\n      <td>No corresponde</td>\n    </tr>\n  </tbody>\n</table>\n<p>5 rows × 31 columns</p>\n</div>"
     },
     "execution_count": 9,
     "metadata": {},
     "output_type": "execute_result"
    }
   ],
   "source": [
    "data.head()"
   ],
   "metadata": {
    "collapsed": false,
    "ExecuteTime": {
     "start_time": "2023-04-18T10:38:27.190014Z",
     "end_time": "2023-04-18T10:38:27.207058Z"
    }
   }
  },
  {
   "cell_type": "code",
   "execution_count": 23,
   "outputs": [
    {
     "data": {
      "text/plain": "                       variable  qty_nan  perc_nan  qty_zeros  perc_zeros   \n0                        nhogar        0  0.000000          0    0.000000  \\\n1                       miembro        0  0.000000          0    0.000000   \n2                        comuna        0  0.000000          0    0.000000   \n3                       dominio        0  0.000000          0    0.000000   \n4                          edad        0  0.000000        128    0.008939   \n5                          sexo        0  0.000000          0    0.000000   \n6               parentesco_jefe        0  0.000000          0    0.000000   \n7            situacion_conyugal        1  0.000070          0    0.000000   \n8             num_miembro_padre        0  0.000000          0    0.000000   \n9             num_miembro_madre        0  0.000000          0    0.000000   \n10           estado_ocupacional        0  0.000000          0    0.000000   \n11              cat_ocupacional        0  0.000000          0    0.000000   \n12         calidad_ingresos_lab        0  0.000000          0    0.000000   \n13            ingreso_total_lab        0  0.000000       6963    0.486277   \n14      calidad_ingresos_no_lab        0  0.000000          0    0.000000   \n15         ingreso_total_no_lab        0  0.000000      10247    0.715623   \n16     calidad_ingresos_totales        0  0.000000          0    0.000000   \n17             ingresos_totales        0  0.000000       4295    0.299951   \n18  calidad_ingresos_familiares        0  0.000000          0    0.000000   \n19          ingresos_familiares        0  0.000000         76    0.005308   \n20  ingreso_per_capita_familiar        0  0.000000         76    0.005308   \n21             estado_educativo        0  0.000000          0    0.000000   \n22             sector_educativo        3  0.000210          0    0.000000   \n23                 nivel_actual        0  0.000000          0    0.000000   \n24          nivel_max_educativo     1054  0.073608          0    0.000000   \n25             años_escolaridad       62  0.004330          0    0.000000   \n26             lugar_nacimiento        1  0.000070          0    0.000000   \n27             afiliacion_salud        4  0.000279          0    0.000000   \n28     cantidad_hijos_nac_vivos        0  0.000000          0    0.000000   \n\n    unique    type  \n0        7   int64  \n1       19   int64  \n2       15   int64  \n3        2  object  \n4      101   int64  \n5        2  object  \n6        9  object  \n7        7  object  \n8        9  object  \n9       11  object  \n10       3  object  \n11       5  object  \n12       4  object  \n13     440   int64  \n14       4  object  \n15     375   int64  \n16       4  object  \n17     678   int64  \n18       3  object  \n19     960   int64  \n20    1257   int64  \n21       3  object  \n22       4  object  \n23      14  object  \n24       7  object  \n25      20  object  \n26       7  object  \n27       5  object  \n28      14  object  ",
      "text/html": "<div>\n<style scoped>\n    .dataframe tbody tr th:only-of-type {\n        vertical-align: middle;\n    }\n\n    .dataframe tbody tr th {\n        vertical-align: top;\n    }\n\n    .dataframe thead th {\n        text-align: right;\n    }\n</style>\n<table border=\"1\" class=\"dataframe\">\n  <thead>\n    <tr style=\"text-align: right;\">\n      <th></th>\n      <th>variable</th>\n      <th>qty_nan</th>\n      <th>perc_nan</th>\n      <th>qty_zeros</th>\n      <th>perc_zeros</th>\n      <th>unique</th>\n      <th>type</th>\n    </tr>\n  </thead>\n  <tbody>\n    <tr>\n      <th>0</th>\n      <td>nhogar</td>\n      <td>0</td>\n      <td>0.000000</td>\n      <td>0</td>\n      <td>0.000000</td>\n      <td>7</td>\n      <td>int64</td>\n    </tr>\n    <tr>\n      <th>1</th>\n      <td>miembro</td>\n      <td>0</td>\n      <td>0.000000</td>\n      <td>0</td>\n      <td>0.000000</td>\n      <td>19</td>\n      <td>int64</td>\n    </tr>\n    <tr>\n      <th>2</th>\n      <td>comuna</td>\n      <td>0</td>\n      <td>0.000000</td>\n      <td>0</td>\n      <td>0.000000</td>\n      <td>15</td>\n      <td>int64</td>\n    </tr>\n    <tr>\n      <th>3</th>\n      <td>dominio</td>\n      <td>0</td>\n      <td>0.000000</td>\n      <td>0</td>\n      <td>0.000000</td>\n      <td>2</td>\n      <td>object</td>\n    </tr>\n    <tr>\n      <th>4</th>\n      <td>edad</td>\n      <td>0</td>\n      <td>0.000000</td>\n      <td>128</td>\n      <td>0.008939</td>\n      <td>101</td>\n      <td>int64</td>\n    </tr>\n    <tr>\n      <th>5</th>\n      <td>sexo</td>\n      <td>0</td>\n      <td>0.000000</td>\n      <td>0</td>\n      <td>0.000000</td>\n      <td>2</td>\n      <td>object</td>\n    </tr>\n    <tr>\n      <th>6</th>\n      <td>parentesco_jefe</td>\n      <td>0</td>\n      <td>0.000000</td>\n      <td>0</td>\n      <td>0.000000</td>\n      <td>9</td>\n      <td>object</td>\n    </tr>\n    <tr>\n      <th>7</th>\n      <td>situacion_conyugal</td>\n      <td>1</td>\n      <td>0.000070</td>\n      <td>0</td>\n      <td>0.000000</td>\n      <td>7</td>\n      <td>object</td>\n    </tr>\n    <tr>\n      <th>8</th>\n      <td>num_miembro_padre</td>\n      <td>0</td>\n      <td>0.000000</td>\n      <td>0</td>\n      <td>0.000000</td>\n      <td>9</td>\n      <td>object</td>\n    </tr>\n    <tr>\n      <th>9</th>\n      <td>num_miembro_madre</td>\n      <td>0</td>\n      <td>0.000000</td>\n      <td>0</td>\n      <td>0.000000</td>\n      <td>11</td>\n      <td>object</td>\n    </tr>\n    <tr>\n      <th>10</th>\n      <td>estado_ocupacional</td>\n      <td>0</td>\n      <td>0.000000</td>\n      <td>0</td>\n      <td>0.000000</td>\n      <td>3</td>\n      <td>object</td>\n    </tr>\n    <tr>\n      <th>11</th>\n      <td>cat_ocupacional</td>\n      <td>0</td>\n      <td>0.000000</td>\n      <td>0</td>\n      <td>0.000000</td>\n      <td>5</td>\n      <td>object</td>\n    </tr>\n    <tr>\n      <th>12</th>\n      <td>calidad_ingresos_lab</td>\n      <td>0</td>\n      <td>0.000000</td>\n      <td>0</td>\n      <td>0.000000</td>\n      <td>4</td>\n      <td>object</td>\n    </tr>\n    <tr>\n      <th>13</th>\n      <td>ingreso_total_lab</td>\n      <td>0</td>\n      <td>0.000000</td>\n      <td>6963</td>\n      <td>0.486277</td>\n      <td>440</td>\n      <td>int64</td>\n    </tr>\n    <tr>\n      <th>14</th>\n      <td>calidad_ingresos_no_lab</td>\n      <td>0</td>\n      <td>0.000000</td>\n      <td>0</td>\n      <td>0.000000</td>\n      <td>4</td>\n      <td>object</td>\n    </tr>\n    <tr>\n      <th>15</th>\n      <td>ingreso_total_no_lab</td>\n      <td>0</td>\n      <td>0.000000</td>\n      <td>10247</td>\n      <td>0.715623</td>\n      <td>375</td>\n      <td>int64</td>\n    </tr>\n    <tr>\n      <th>16</th>\n      <td>calidad_ingresos_totales</td>\n      <td>0</td>\n      <td>0.000000</td>\n      <td>0</td>\n      <td>0.000000</td>\n      <td>4</td>\n      <td>object</td>\n    </tr>\n    <tr>\n      <th>17</th>\n      <td>ingresos_totales</td>\n      <td>0</td>\n      <td>0.000000</td>\n      <td>4295</td>\n      <td>0.299951</td>\n      <td>678</td>\n      <td>int64</td>\n    </tr>\n    <tr>\n      <th>18</th>\n      <td>calidad_ingresos_familiares</td>\n      <td>0</td>\n      <td>0.000000</td>\n      <td>0</td>\n      <td>0.000000</td>\n      <td>3</td>\n      <td>object</td>\n    </tr>\n    <tr>\n      <th>19</th>\n      <td>ingresos_familiares</td>\n      <td>0</td>\n      <td>0.000000</td>\n      <td>76</td>\n      <td>0.005308</td>\n      <td>960</td>\n      <td>int64</td>\n    </tr>\n    <tr>\n      <th>20</th>\n      <td>ingreso_per_capita_familiar</td>\n      <td>0</td>\n      <td>0.000000</td>\n      <td>76</td>\n      <td>0.005308</td>\n      <td>1257</td>\n      <td>int64</td>\n    </tr>\n    <tr>\n      <th>21</th>\n      <td>estado_educativo</td>\n      <td>0</td>\n      <td>0.000000</td>\n      <td>0</td>\n      <td>0.000000</td>\n      <td>3</td>\n      <td>object</td>\n    </tr>\n    <tr>\n      <th>22</th>\n      <td>sector_educativo</td>\n      <td>3</td>\n      <td>0.000210</td>\n      <td>0</td>\n      <td>0.000000</td>\n      <td>4</td>\n      <td>object</td>\n    </tr>\n    <tr>\n      <th>23</th>\n      <td>nivel_actual</td>\n      <td>0</td>\n      <td>0.000000</td>\n      <td>0</td>\n      <td>0.000000</td>\n      <td>14</td>\n      <td>object</td>\n    </tr>\n    <tr>\n      <th>24</th>\n      <td>nivel_max_educativo</td>\n      <td>1054</td>\n      <td>0.073608</td>\n      <td>0</td>\n      <td>0.000000</td>\n      <td>7</td>\n      <td>object</td>\n    </tr>\n    <tr>\n      <th>25</th>\n      <td>años_escolaridad</td>\n      <td>62</td>\n      <td>0.004330</td>\n      <td>0</td>\n      <td>0.000000</td>\n      <td>20</td>\n      <td>object</td>\n    </tr>\n    <tr>\n      <th>26</th>\n      <td>lugar_nacimiento</td>\n      <td>1</td>\n      <td>0.000070</td>\n      <td>0</td>\n      <td>0.000000</td>\n      <td>7</td>\n      <td>object</td>\n    </tr>\n    <tr>\n      <th>27</th>\n      <td>afiliacion_salud</td>\n      <td>4</td>\n      <td>0.000279</td>\n      <td>0</td>\n      <td>0.000000</td>\n      <td>5</td>\n      <td>object</td>\n    </tr>\n    <tr>\n      <th>28</th>\n      <td>cantidad_hijos_nac_vivos</td>\n      <td>0</td>\n      <td>0.000000</td>\n      <td>0</td>\n      <td>0.000000</td>\n      <td>14</td>\n      <td>object</td>\n    </tr>\n  </tbody>\n</table>\n</div>"
     },
     "execution_count": 23,
     "metadata": {},
     "output_type": "execute_result"
    }
   ],
   "source": [
    "expl_data = Explorator(data)\n",
    "expl_data.totals()"
   ],
   "metadata": {
    "collapsed": false,
    "ExecuteTime": {
     "start_time": "2023-04-18T11:38:53.785599Z",
     "end_time": "2023-04-18T11:38:53.831212Z"
    }
   }
  },
  {
   "cell_type": "markdown",
   "source": [
    "### 1.1 Eliminar columnas id y hijos_nacidos_vivos"
   ],
   "metadata": {
    "collapsed": false
   }
  },
  {
   "cell_type": "code",
   "execution_count": 10,
   "outputs": [],
   "source": [
    "data = data.drop(['id','hijos_nacidos_vivos'], axis=1)"
   ],
   "metadata": {
    "collapsed": false,
    "ExecuteTime": {
     "start_time": "2023-04-18T10:38:41.634353Z",
     "end_time": "2023-04-18T10:38:41.651023Z"
    }
   }
  },
  {
   "cell_type": "code",
   "execution_count": 11,
   "outputs": [
    {
     "data": {
      "text/plain": "                       variable  qty_nan  perc_nan  qty_zeros  perc_zeros   \n0                        nhogar        0  0.000000          0    0.000000  \\\n1                       miembro        0  0.000000          0    0.000000   \n2                        comuna        0  0.000000          0    0.000000   \n3                       dominio        0  0.000000          0    0.000000   \n4                          edad        0  0.000000        128    0.008939   \n5                          sexo        0  0.000000          0    0.000000   \n6               parentesco_jefe        0  0.000000          0    0.000000   \n7            situacion_conyugal        1  0.000070          0    0.000000   \n8             num_miembro_padre        0  0.000000          0    0.000000   \n9             num_miembro_madre        0  0.000000          0    0.000000   \n10           estado_ocupacional        0  0.000000          0    0.000000   \n11              cat_ocupacional        0  0.000000          0    0.000000   \n12         calidad_ingresos_lab        0  0.000000          0    0.000000   \n13            ingreso_total_lab        0  0.000000       6963    0.486277   \n14      calidad_ingresos_no_lab        0  0.000000          0    0.000000   \n15         ingreso_total_no_lab        0  0.000000      10247    0.715623   \n16     calidad_ingresos_totales        0  0.000000          0    0.000000   \n17             ingresos_totales        0  0.000000       4295    0.299951   \n18  calidad_ingresos_familiares        0  0.000000          0    0.000000   \n19          ingresos_familiares        0  0.000000         76    0.005308   \n20  ingreso_per_capita_familiar        0  0.000000         76    0.005308   \n21             estado_educativo        0  0.000000          0    0.000000   \n22             sector_educativo        3  0.000210          0    0.000000   \n23                 nivel_actual        0  0.000000          0    0.000000   \n24          nivel_max_educativo     1054  0.073608          0    0.000000   \n25             años_escolaridad       62  0.004330          0    0.000000   \n26             lugar_nacimiento        1  0.000070          0    0.000000   \n27             afiliacion_salud        4  0.000279          0    0.000000   \n28     cantidad_hijos_nac_vivos        0  0.000000          0    0.000000   \n\n    unique    type  \n0        7   int64  \n1       19   int64  \n2       15   int64  \n3        2  object  \n4      101   int64  \n5        2  object  \n6        9  object  \n7        7  object  \n8        9  object  \n9       11  object  \n10       3  object  \n11       5  object  \n12       4  object  \n13     440   int64  \n14       4  object  \n15     375   int64  \n16       4  object  \n17     678   int64  \n18       3  object  \n19     960   int64  \n20    1257   int64  \n21       3  object  \n22       4  object  \n23      14  object  \n24       7  object  \n25      20  object  \n26       7  object  \n27       5  object  \n28      14  object  ",
      "text/html": "<div>\n<style scoped>\n    .dataframe tbody tr th:only-of-type {\n        vertical-align: middle;\n    }\n\n    .dataframe tbody tr th {\n        vertical-align: top;\n    }\n\n    .dataframe thead th {\n        text-align: right;\n    }\n</style>\n<table border=\"1\" class=\"dataframe\">\n  <thead>\n    <tr style=\"text-align: right;\">\n      <th></th>\n      <th>variable</th>\n      <th>qty_nan</th>\n      <th>perc_nan</th>\n      <th>qty_zeros</th>\n      <th>perc_zeros</th>\n      <th>unique</th>\n      <th>type</th>\n    </tr>\n  </thead>\n  <tbody>\n    <tr>\n      <th>0</th>\n      <td>nhogar</td>\n      <td>0</td>\n      <td>0.000000</td>\n      <td>0</td>\n      <td>0.000000</td>\n      <td>7</td>\n      <td>int64</td>\n    </tr>\n    <tr>\n      <th>1</th>\n      <td>miembro</td>\n      <td>0</td>\n      <td>0.000000</td>\n      <td>0</td>\n      <td>0.000000</td>\n      <td>19</td>\n      <td>int64</td>\n    </tr>\n    <tr>\n      <th>2</th>\n      <td>comuna</td>\n      <td>0</td>\n      <td>0.000000</td>\n      <td>0</td>\n      <td>0.000000</td>\n      <td>15</td>\n      <td>int64</td>\n    </tr>\n    <tr>\n      <th>3</th>\n      <td>dominio</td>\n      <td>0</td>\n      <td>0.000000</td>\n      <td>0</td>\n      <td>0.000000</td>\n      <td>2</td>\n      <td>object</td>\n    </tr>\n    <tr>\n      <th>4</th>\n      <td>edad</td>\n      <td>0</td>\n      <td>0.000000</td>\n      <td>128</td>\n      <td>0.008939</td>\n      <td>101</td>\n      <td>int64</td>\n    </tr>\n    <tr>\n      <th>5</th>\n      <td>sexo</td>\n      <td>0</td>\n      <td>0.000000</td>\n      <td>0</td>\n      <td>0.000000</td>\n      <td>2</td>\n      <td>object</td>\n    </tr>\n    <tr>\n      <th>6</th>\n      <td>parentesco_jefe</td>\n      <td>0</td>\n      <td>0.000000</td>\n      <td>0</td>\n      <td>0.000000</td>\n      <td>9</td>\n      <td>object</td>\n    </tr>\n    <tr>\n      <th>7</th>\n      <td>situacion_conyugal</td>\n      <td>1</td>\n      <td>0.000070</td>\n      <td>0</td>\n      <td>0.000000</td>\n      <td>7</td>\n      <td>object</td>\n    </tr>\n    <tr>\n      <th>8</th>\n      <td>num_miembro_padre</td>\n      <td>0</td>\n      <td>0.000000</td>\n      <td>0</td>\n      <td>0.000000</td>\n      <td>9</td>\n      <td>object</td>\n    </tr>\n    <tr>\n      <th>9</th>\n      <td>num_miembro_madre</td>\n      <td>0</td>\n      <td>0.000000</td>\n      <td>0</td>\n      <td>0.000000</td>\n      <td>11</td>\n      <td>object</td>\n    </tr>\n    <tr>\n      <th>10</th>\n      <td>estado_ocupacional</td>\n      <td>0</td>\n      <td>0.000000</td>\n      <td>0</td>\n      <td>0.000000</td>\n      <td>3</td>\n      <td>object</td>\n    </tr>\n    <tr>\n      <th>11</th>\n      <td>cat_ocupacional</td>\n      <td>0</td>\n      <td>0.000000</td>\n      <td>0</td>\n      <td>0.000000</td>\n      <td>5</td>\n      <td>object</td>\n    </tr>\n    <tr>\n      <th>12</th>\n      <td>calidad_ingresos_lab</td>\n      <td>0</td>\n      <td>0.000000</td>\n      <td>0</td>\n      <td>0.000000</td>\n      <td>4</td>\n      <td>object</td>\n    </tr>\n    <tr>\n      <th>13</th>\n      <td>ingreso_total_lab</td>\n      <td>0</td>\n      <td>0.000000</td>\n      <td>6963</td>\n      <td>0.486277</td>\n      <td>440</td>\n      <td>int64</td>\n    </tr>\n    <tr>\n      <th>14</th>\n      <td>calidad_ingresos_no_lab</td>\n      <td>0</td>\n      <td>0.000000</td>\n      <td>0</td>\n      <td>0.000000</td>\n      <td>4</td>\n      <td>object</td>\n    </tr>\n    <tr>\n      <th>15</th>\n      <td>ingreso_total_no_lab</td>\n      <td>0</td>\n      <td>0.000000</td>\n      <td>10247</td>\n      <td>0.715623</td>\n      <td>375</td>\n      <td>int64</td>\n    </tr>\n    <tr>\n      <th>16</th>\n      <td>calidad_ingresos_totales</td>\n      <td>0</td>\n      <td>0.000000</td>\n      <td>0</td>\n      <td>0.000000</td>\n      <td>4</td>\n      <td>object</td>\n    </tr>\n    <tr>\n      <th>17</th>\n      <td>ingresos_totales</td>\n      <td>0</td>\n      <td>0.000000</td>\n      <td>4295</td>\n      <td>0.299951</td>\n      <td>678</td>\n      <td>int64</td>\n    </tr>\n    <tr>\n      <th>18</th>\n      <td>calidad_ingresos_familiares</td>\n      <td>0</td>\n      <td>0.000000</td>\n      <td>0</td>\n      <td>0.000000</td>\n      <td>3</td>\n      <td>object</td>\n    </tr>\n    <tr>\n      <th>19</th>\n      <td>ingresos_familiares</td>\n      <td>0</td>\n      <td>0.000000</td>\n      <td>76</td>\n      <td>0.005308</td>\n      <td>960</td>\n      <td>int64</td>\n    </tr>\n    <tr>\n      <th>20</th>\n      <td>ingreso_per_capita_familiar</td>\n      <td>0</td>\n      <td>0.000000</td>\n      <td>76</td>\n      <td>0.005308</td>\n      <td>1257</td>\n      <td>int64</td>\n    </tr>\n    <tr>\n      <th>21</th>\n      <td>estado_educativo</td>\n      <td>0</td>\n      <td>0.000000</td>\n      <td>0</td>\n      <td>0.000000</td>\n      <td>3</td>\n      <td>object</td>\n    </tr>\n    <tr>\n      <th>22</th>\n      <td>sector_educativo</td>\n      <td>3</td>\n      <td>0.000210</td>\n      <td>0</td>\n      <td>0.000000</td>\n      <td>4</td>\n      <td>object</td>\n    </tr>\n    <tr>\n      <th>23</th>\n      <td>nivel_actual</td>\n      <td>0</td>\n      <td>0.000000</td>\n      <td>0</td>\n      <td>0.000000</td>\n      <td>14</td>\n      <td>object</td>\n    </tr>\n    <tr>\n      <th>24</th>\n      <td>nivel_max_educativo</td>\n      <td>1054</td>\n      <td>0.073608</td>\n      <td>0</td>\n      <td>0.000000</td>\n      <td>7</td>\n      <td>object</td>\n    </tr>\n    <tr>\n      <th>25</th>\n      <td>años_escolaridad</td>\n      <td>62</td>\n      <td>0.004330</td>\n      <td>0</td>\n      <td>0.000000</td>\n      <td>20</td>\n      <td>object</td>\n    </tr>\n    <tr>\n      <th>26</th>\n      <td>lugar_nacimiento</td>\n      <td>1</td>\n      <td>0.000070</td>\n      <td>0</td>\n      <td>0.000000</td>\n      <td>7</td>\n      <td>object</td>\n    </tr>\n    <tr>\n      <th>27</th>\n      <td>afiliacion_salud</td>\n      <td>4</td>\n      <td>0.000279</td>\n      <td>0</td>\n      <td>0.000000</td>\n      <td>5</td>\n      <td>object</td>\n    </tr>\n    <tr>\n      <th>28</th>\n      <td>cantidad_hijos_nac_vivos</td>\n      <td>0</td>\n      <td>0.000000</td>\n      <td>0</td>\n      <td>0.000000</td>\n      <td>14</td>\n      <td>object</td>\n    </tr>\n  </tbody>\n</table>\n</div>"
     },
     "execution_count": 11,
     "metadata": {},
     "output_type": "execute_result"
    }
   ],
   "source": [
    "\n",
    "\n",
    "expl_1 = Explorator(data)\n",
    "expl_1.totals()"
   ],
   "metadata": {
    "collapsed": false,
    "ExecuteTime": {
     "start_time": "2023-04-18T10:38:43.755447Z",
     "end_time": "2023-04-18T10:38:43.804532Z"
    }
   }
  },
  {
   "cell_type": "markdown",
   "source": [
    "## 2. Discretización"
   ],
   "metadata": {
    "collapsed": false
   }
  },
  {
   "cell_type": "code",
   "execution_count": 43,
   "outputs": [],
   "source": [
    "data_work=data.copy()"
   ],
   "metadata": {
    "collapsed": false,
    "ExecuteTime": {
     "start_time": "2023-04-18T12:27:06.014576Z",
     "end_time": "2023-04-18T12:27:06.037809Z"
    }
   }
  },
  {
   "cell_type": "markdown",
   "source": [
    "### 2.1 Discretizar 'ingresos_familiares'"
   ],
   "metadata": {
    "collapsed": false
   }
  },
  {
   "cell_type": "code",
   "execution_count": 44,
   "outputs": [
    {
     "data": {
      "text/plain": "array([      0.,   20800.,   30000.,   42000.,   54000.,   70000.,\n         90000.,  124000., 1000000.])"
     },
     "execution_count": 44,
     "metadata": {},
     "output_type": "execute_result"
    }
   ],
   "source": [
    "data_work['ingresos_familiares_cat'], saved_bins = pd.qcut(data_work['ingresos_familiares'], q=8, retbins=True)\n",
    "saved_bins"
   ],
   "metadata": {
    "collapsed": false,
    "ExecuteTime": {
     "start_time": "2023-04-18T12:27:07.329106Z",
     "end_time": "2023-04-18T12:27:07.339797Z"
    }
   }
  },
  {
   "cell_type": "code",
   "execution_count": 45,
   "outputs": [
    {
     "data": {
      "text/plain": "  ingresos_familiares_cat  frequency  percentage  cumulative_perc\n0      (54000.0, 70000.0]       1905    0.133040         0.133040\n1      (30000.0, 42000.0]       1841    0.128570         0.261610\n2      (20800.0, 30000.0]       1810    0.126405         0.388016\n3       (-0.001, 20800.0]       1796    0.125428         0.513444\n4   (124000.0, 1000000.0]       1788    0.124869         0.638313\n5      (70000.0, 90000.0]       1781    0.124380         0.762693\n6      (42000.0, 54000.0]       1721    0.120190         0.882883\n7     (90000.0, 124000.0]       1677    0.117117         1.000000",
      "text/html": "<div>\n<style scoped>\n    .dataframe tbody tr th:only-of-type {\n        vertical-align: middle;\n    }\n\n    .dataframe tbody tr th {\n        vertical-align: top;\n    }\n\n    .dataframe thead th {\n        text-align: right;\n    }\n</style>\n<table border=\"1\" class=\"dataframe\">\n  <thead>\n    <tr style=\"text-align: right;\">\n      <th></th>\n      <th>ingresos_familiares_cat</th>\n      <th>frequency</th>\n      <th>percentage</th>\n      <th>cumulative_perc</th>\n    </tr>\n  </thead>\n  <tbody>\n    <tr>\n      <th>0</th>\n      <td>(54000.0, 70000.0]</td>\n      <td>1905</td>\n      <td>0.133040</td>\n      <td>0.133040</td>\n    </tr>\n    <tr>\n      <th>1</th>\n      <td>(30000.0, 42000.0]</td>\n      <td>1841</td>\n      <td>0.128570</td>\n      <td>0.261610</td>\n    </tr>\n    <tr>\n      <th>2</th>\n      <td>(20800.0, 30000.0]</td>\n      <td>1810</td>\n      <td>0.126405</td>\n      <td>0.388016</td>\n    </tr>\n    <tr>\n      <th>3</th>\n      <td>(-0.001, 20800.0]</td>\n      <td>1796</td>\n      <td>0.125428</td>\n      <td>0.513444</td>\n    </tr>\n    <tr>\n      <th>4</th>\n      <td>(124000.0, 1000000.0]</td>\n      <td>1788</td>\n      <td>0.124869</td>\n      <td>0.638313</td>\n    </tr>\n    <tr>\n      <th>5</th>\n      <td>(70000.0, 90000.0]</td>\n      <td>1781</td>\n      <td>0.124380</td>\n      <td>0.762693</td>\n    </tr>\n    <tr>\n      <th>6</th>\n      <td>(42000.0, 54000.0]</td>\n      <td>1721</td>\n      <td>0.120190</td>\n      <td>0.882883</td>\n    </tr>\n    <tr>\n      <th>7</th>\n      <td>(90000.0, 124000.0]</td>\n      <td>1677</td>\n      <td>0.117117</td>\n      <td>1.000000</td>\n    </tr>\n  </tbody>\n</table>\n</div>"
     },
     "execution_count": 45,
     "metadata": {},
     "output_type": "execute_result"
    }
   ],
   "source": [
    "expl_2 = Explorator(data_work['ingresos_familiares_cat'])\n",
    "expl_2.frequency()"
   ],
   "metadata": {
    "collapsed": false,
    "ExecuteTime": {
     "start_time": "2023-04-18T12:27:08.084844Z",
     "end_time": "2023-04-18T12:27:08.111206Z"
    }
   }
  },
  {
   "cell_type": "markdown",
   "source": [
    "### 2.2 Discretizar ‘ingreso_per_capita_familiar’"
   ],
   "metadata": {
    "collapsed": false
   }
  },
  {
   "cell_type": "code",
   "execution_count": 46,
   "outputs": [
    {
     "data": {
      "text/plain": "array([      0.,    5400.,    8700.,   12000.,   15016.,   19900.,\n         24000.,   30000.,   38300.,   52340., 1000000.])"
     },
     "execution_count": 46,
     "metadata": {},
     "output_type": "execute_result"
    }
   ],
   "source": [
    "data_work['ingreso_per_capita_familiar_cat'], saved_bins_2 = pd.qcut(data_work['ingreso_per_capita_familiar'], q=10, retbins=True)\n",
    "saved_bins_2"
   ],
   "metadata": {
    "collapsed": false,
    "ExecuteTime": {
     "start_time": "2023-04-18T12:27:09.496437Z",
     "end_time": "2023-04-18T12:27:09.518934Z"
    }
   }
  },
  {
   "cell_type": "code",
   "execution_count": 47,
   "outputs": [
    {
     "data": {
      "text/plain": "  ingreso_per_capita_familiar_cat  frequency  percentage  cumulative_perc\n0              (24000.0, 30000.0]       1594    0.111321         0.111321\n1               (8700.0, 12000.0]       1554    0.108527         0.219848\n2              (19900.0, 24000.0]       1460    0.101962         0.321810\n3                (-0.001, 5400.0]       1434    0.100147         0.421957\n4              (15016.0, 19900.0]       1432    0.100007         0.521964\n5            (52340.0, 1000000.0]       1432    0.100007         0.621971\n6                (5400.0, 8700.0]       1431    0.099937         0.721908\n7              (38300.0, 52340.0]       1430    0.099867         0.821775\n8              (12000.0, 15016.0]       1309    0.091417         0.913192\n9              (30000.0, 38300.0]       1243    0.086808         1.000000",
      "text/html": "<div>\n<style scoped>\n    .dataframe tbody tr th:only-of-type {\n        vertical-align: middle;\n    }\n\n    .dataframe tbody tr th {\n        vertical-align: top;\n    }\n\n    .dataframe thead th {\n        text-align: right;\n    }\n</style>\n<table border=\"1\" class=\"dataframe\">\n  <thead>\n    <tr style=\"text-align: right;\">\n      <th></th>\n      <th>ingreso_per_capita_familiar_cat</th>\n      <th>frequency</th>\n      <th>percentage</th>\n      <th>cumulative_perc</th>\n    </tr>\n  </thead>\n  <tbody>\n    <tr>\n      <th>0</th>\n      <td>(24000.0, 30000.0]</td>\n      <td>1594</td>\n      <td>0.111321</td>\n      <td>0.111321</td>\n    </tr>\n    <tr>\n      <th>1</th>\n      <td>(8700.0, 12000.0]</td>\n      <td>1554</td>\n      <td>0.108527</td>\n      <td>0.219848</td>\n    </tr>\n    <tr>\n      <th>2</th>\n      <td>(19900.0, 24000.0]</td>\n      <td>1460</td>\n      <td>0.101962</td>\n      <td>0.321810</td>\n    </tr>\n    <tr>\n      <th>3</th>\n      <td>(-0.001, 5400.0]</td>\n      <td>1434</td>\n      <td>0.100147</td>\n      <td>0.421957</td>\n    </tr>\n    <tr>\n      <th>4</th>\n      <td>(15016.0, 19900.0]</td>\n      <td>1432</td>\n      <td>0.100007</td>\n      <td>0.521964</td>\n    </tr>\n    <tr>\n      <th>5</th>\n      <td>(52340.0, 1000000.0]</td>\n      <td>1432</td>\n      <td>0.100007</td>\n      <td>0.621971</td>\n    </tr>\n    <tr>\n      <th>6</th>\n      <td>(5400.0, 8700.0]</td>\n      <td>1431</td>\n      <td>0.099937</td>\n      <td>0.721908</td>\n    </tr>\n    <tr>\n      <th>7</th>\n      <td>(38300.0, 52340.0]</td>\n      <td>1430</td>\n      <td>0.099867</td>\n      <td>0.821775</td>\n    </tr>\n    <tr>\n      <th>8</th>\n      <td>(12000.0, 15016.0]</td>\n      <td>1309</td>\n      <td>0.091417</td>\n      <td>0.913192</td>\n    </tr>\n    <tr>\n      <th>9</th>\n      <td>(30000.0, 38300.0]</td>\n      <td>1243</td>\n      <td>0.086808</td>\n      <td>1.000000</td>\n    </tr>\n  </tbody>\n</table>\n</div>"
     },
     "execution_count": 47,
     "metadata": {},
     "output_type": "execute_result"
    }
   ],
   "source": [
    "expl_3 = Explorator(data_work['ingreso_per_capita_familiar_cat'])\n",
    "expl_3.frequency()"
   ],
   "metadata": {
    "collapsed": false,
    "ExecuteTime": {
     "start_time": "2023-04-18T12:27:10.428570Z",
     "end_time": "2023-04-18T12:27:10.443442Z"
    }
   }
  },
  {
   "cell_type": "markdown",
   "source": [
    "### 2.3 Discretizar ‘ingreso_per_capita_familiar’ y 'ingreso_total_no_lab'"
   ],
   "metadata": {
    "collapsed": false
   }
  },
  {
   "cell_type": "code",
   "execution_count": 48,
   "outputs": [],
   "source": [
    "data_work['ingreso_total_lab_cat'] = pd.qcut(data_work['ingreso_total_lab'], q=10, duplicates='drop')\n",
    "data_work['ingreso_total_no_lab_cat'] = pd.qcut(data_work['ingreso_total_no_lab'], q=4, duplicates='drop')"
   ],
   "metadata": {
    "collapsed": false,
    "ExecuteTime": {
     "start_time": "2023-04-18T12:27:18.462281Z",
     "end_time": "2023-04-18T12:27:18.473919Z"
    }
   }
  },
  {
   "cell_type": "code",
   "execution_count": 49,
   "outputs": [
    {
     "name": "stdout",
     "output_type": "stream",
     "text": [
      "  ingreso_per_capita_familiar_cat  frequency  percentage  cumulative_perc\n",
      "0              (24000.0, 30000.0]       1594    0.111321         0.111321\n",
      "1               (8700.0, 12000.0]       1554    0.108527         0.219848\n",
      "2              (19900.0, 24000.0]       1460    0.101962         0.321810\n",
      "3                (-0.001, 5400.0]       1434    0.100147         0.421957\n",
      "4              (15016.0, 19900.0]       1432    0.100007         0.521964\n",
      "5            (52340.0, 1000000.0]       1432    0.100007         0.621971\n",
      "6                (5400.0, 8700.0]       1431    0.099937         0.721908\n",
      "7              (38300.0, 52340.0]       1430    0.099867         0.821775\n",
      "8              (12000.0, 15016.0]       1309    0.091417         0.913192\n",
      "9              (30000.0, 38300.0]       1243    0.086808         1.000000\n",
      "\n",
      "----------------------------------------------------------------\n",
      "\n",
      "  ingreso_total_no_lab_cat  frequency  percentage  cumulative_perc\n",
      "0         (-0.001, 4000.0]      10741    0.750122         0.750122\n",
      "1       (4000.0, 500000.0]       3578    0.249878         1.000000\n",
      "\n",
      "----------------------------------------------------------------\n",
      "\n"
     ]
    }
   ],
   "source": [
    "expl_4 = Explorator(data_work[['ingreso_per_capita_familiar_cat', 'ingreso_total_no_lab_cat']])\n",
    "expl_4.frequency()"
   ],
   "metadata": {
    "collapsed": false,
    "ExecuteTime": {
     "start_time": "2023-04-18T12:27:21.590128Z",
     "end_time": "2023-04-18T12:27:21.619624Z"
    }
   }
  },
  {
   "cell_type": "markdown",
   "source": [
    "### 2.4 Discretizar ‘edad’"
   ],
   "metadata": {
    "collapsed": false
   }
  },
  {
   "cell_type": "code",
   "execution_count": null,
   "outputs": [],
   "source": [],
   "metadata": {
    "collapsed": false
   }
  }
 ],
 "metadata": {
  "kernelspec": {
   "display_name": "Python 3",
   "language": "python",
   "name": "python3"
  },
  "language_info": {
   "codemirror_mode": {
    "name": "ipython",
    "version": 2
   },
   "file_extension": ".py",
   "mimetype": "text/x-python",
   "name": "python",
   "nbconvert_exporter": "python",
   "pygments_lexer": "ipython2",
   "version": "2.7.6"
  }
 },
 "nbformat": 4,
 "nbformat_minor": 0
}
